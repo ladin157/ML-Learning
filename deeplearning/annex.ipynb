{
 "cells": [
  {
   "cell_type": "markdown",
   "metadata": {},
   "source": [
    "# Artificial Neural Network (ANN)"
   ]
  },
  {
   "cell_type": "markdown",
   "metadata": {},
   "source": [
    "### The main objective of the deep learning algorithm so far has been to use machine learning to achieve Artificial General Intelligence (AGI), that is, replicate human-level intelligence in machines to solve any problems for a given area. Deep learning has shown promising outcomes in computer vision, audio processing, and text mining. "
   ]
  },
  {
   "cell_type": "markdown",
   "metadata": {},
   "source": [
    "### 1. ANN introduction"
   ]
  },
  {
   "cell_type": "markdown",
   "metadata": {},
   "source": [
    "The human brain is a complex connected neural\n",
    "network where different regions of the brain are responsible for different jobs, and these\n",
    "regions are machines of the brain that receive signals and processes it to take necessary\n",
    "action."
   ]
  },
  {
   "cell_type": "markdown",
   "metadata": {},
   "source": [
    "## What Goes Behind, When Computers Look at an Image?"
   ]
  },
  {
   "cell_type": "markdown",
   "metadata": {},
   "source": [
    "![image.png](image.png)"
   ]
  },
  {
   "cell_type": "markdown",
   "metadata": {},
   "source": [
    "## Why Not a Simple Classification Model for Images?"
   ]
  },
  {
   "cell_type": "markdown",
   "metadata": {},
   "source": [
    "Image classification can be challenging for a computer as there are a variety of challenges\n",
    "associated with representation of the images. A simple classification model might not\n",
    "be able to address most of these issues without a lot of feature engineering effort. Let’s\n",
    "understand some of the key issues"
   ]
  },
  {
   "cell_type": "markdown",
   "metadata": {},
   "source": [
    "#### View point variation: Same object can have different orientation."
   ]
  },
  {
   "cell_type": "markdown",
   "metadata": {},
   "source": [
    "![image.png](image_challenge.png)"
   ]
  },
  {
   "cell_type": "markdown",
   "metadata": {},
   "source": [
    "### 2. Perception – single artificial neuron"
   ]
  },
  {
   "cell_type": "markdown",
   "metadata": {},
   "source": [
    "![image.png](perceptron.png)"
   ]
  },
  {
   "cell_type": "markdown",
   "metadata": {},
   "source": [
    "### 3. Multilayer Perceptrons (Feedforward Neural Network)"
   ]
  },
  {
   "cell_type": "markdown",
   "metadata": {},
   "source": [
    "It is a composition of multiple perceptrons connected in different ways and operating on distinctive activation functions to enable improved learning mechanisms.\n",
    "The training sample propagates forward through the network and the output error is back propagated and the error is minimized using the gradient descent method, which will calculate a loss function for all the weights in the network.\n"
   ]
  },
  {
   "cell_type": "markdown",
   "metadata": {},
   "source": [
    "![image.png](multi_perceptron.png)"
   ]
  },
  {
   "cell_type": "markdown",
   "metadata": {},
   "source": [
    "## 4. Example"
   ]
  },
  {
   "cell_type": "markdown",
   "metadata": {},
   "source": [
    "### 4.1. Load MNIST Data"
   ]
  },
  {
   "cell_type": "markdown",
   "metadata": {},
   "source": [
    "#### Load MNIS Data and show initial labels"
   ]
  },
  {
   "cell_type": "code",
   "execution_count": 4,
   "metadata": {},
   "outputs": [
    {
     "name": "stdout",
     "output_type": "stream",
     "text": [
      "We have 1797 samples\n"
     ]
    },
    {
     "data": {
      "image/png": "[encoded data removed]",
      "text/plain": [
       "<matplotlib.figure.Figure at 0x4c21be0>"
      ]
     },
     "metadata": {},
     "output_type": "display_data"
    }
   ],
   "source": [
    "# Load MNIST Data\n",
    "import pandas as pd\n",
    "import numpy as np\n",
    "import matplotlib.pyplot as plt\n",
    "\n",
    "from sklearn.neural_network import MLPClassifier\n",
    "from sklearn.model_selection import train_test_split\n",
    "from sklearn.preprocessing import StandardScaler\n",
    "from sklearn.metrics import confusion_matrix\n",
    "\n",
    "from sklearn.datasets import load_digits\n",
    "\n",
    "np.random.seed(seed=2017)\n",
    "\n",
    "# Load data\n",
    "digits = load_digits()\n",
    "print('We have %d samples' % len(digits.target))\n",
    "\n",
    "## plot the first 32 samples to get a sense of the data\n",
    "fig = plt.figure(figsize=(8, 8))\n",
    "fig.subplots_adjust(left=0, right=1, bottom=0, top=1, hspace=0.05,\n",
    "                    wspace=0.05)\n",
    "for i in range(32):\n",
    "    ax = fig.add_subplot(8, 8, i + 1, xticks=[], yticks=[])\n",
    "    ax.imshow(digits.images[i], cmap=plt.cm.gray_r)\n",
    "    ax.text(0, 1, str(digits.target[i]), bbox=dict(facecolor='white'))\n",
    "\n",
    "# ----- output ----\n",
    "plt.show()"
   ]
  },
  {
   "cell_type": "markdown",
   "metadata": {},
   "source": [
    "### 4.2. Key Parameters for scikit-learn MLP"
   ]
  },
  {
   "cell_type": "code",
   "execution_count": 5,
   "metadata": {},
   "outputs": [
    {
     "name": "stdout",
     "output_type": "stream",
     "text": [
      "Number of samples in training set: 1437\n",
      "Number of samples in test set: 360\n"
     ]
    },
    {
     "name": "stderr",
     "output_type": "stream",
     "text": [
      "C:\\ProgramData\\Anaconda3\\lib\\site-packages\\sklearn\\neural_network\\multilayer_perceptron.py:563: ConvergenceWarning: Stochastic Optimizer: Maximum iterations reached and the optimization hasn't converged yet.\n",
      "  % (), ConvergenceWarning)\n"
     ]
    },
    {
     "name": "stdout",
     "output_type": "stream",
     "text": [
      "Training set score: 0.990953\n",
      "Test set score: 0.983333\n"
     ]
    },
    {
     "data": {
      "image/png": "[encoded data removed]",
      "text/plain": [
       "<matplotlib.figure.Figure at 0x4cb7470>"
      ]
     },
     "metadata": {},
     "output_type": "display_data"
    }
   ],
   "source": [
    "# Key Parameters for scikit-learn MLP\n",
    "# Listing 6-3. Example code for sklearn MLP classifier\n",
    "\n",
    "# split data to training and testing data\n",
    "X_train, X_test, y_train, y_test = train_test_split(digits.data, digits.target, test_size=0.2, random_state=2017)\n",
    "print('Number of samples in training set: %d' % (len(y_train)))\n",
    "print('Number of samples in test set: %d' % (len(y_test)))\n",
    "\n",
    "# standardise data, and fit only to the training data\n",
    "scaler = StandardScaler()\n",
    "scaler.fit(X_train)\n",
    "\n",
    "# Apply the transformations to the data\n",
    "X_train_scaled = scaler.transform(X_train)\n",
    "X_test_scaled = scaler.transform(X_test)\n",
    "\n",
    "# Initialize ANN classifier\n",
    "mlp = MLPClassifier(hidden_layer_sizes=(100), activation='logistic', max_iter=100)\n",
    "\n",
    "# Train the classifier with the training data\n",
    "mlp.fit(X_train_scaled, y_train)\n",
    "\n",
    "MLPClassifier(activation='logistic', alpha=0.0001, batch_size='auto',\n",
    "              beta_1=0.9, beta_2=0.999, early_stopping=False, epsilon=1e-08,\n",
    "              hidden_layer_sizes=(30, 30, 30), learning_rate='constant',\n",
    "              learning_rate_init=0.001, max_iter=100, momentum=0.9,\n",
    "              nesterovs_momentum=True, power_t=0.5, random_state=None,\n",
    "              shuffle=True, solver='adam', tol=0.0001, validation_fraction=0.1,\n",
    "              verbose=False, warm_start=False)\n",
    "\n",
    "print('Training set score: %f' % mlp.score(X_train_scaled, y_train))\n",
    "print('Test set score: %f' % mlp.score(X_test_scaled, y_test))\n",
    "\n",
    "# predict results from the test data\n",
    "X_test_predicted = mlp.predict(X_test_scaled)\n",
    "\n",
    "fig = plt.figure(figsize=(8,8)) # figure size in inches\n",
    "fig.subplots_adjust(left=0,right=1, bottom=0, top=1, hspace=0.05,wspace=0.05)\n",
    "\n",
    "# Plot the digits: each image is 8x8 pixels\n",
    "for i in range(32):\n",
    "    ax = fig.add_subplot(8,8, i+1, xticks=[], yticks=[])\n",
    "    ax.imshow(X_test.reshape(-1,8,8)[i], cmap=plt.cm.gray_r)\n",
    "\n",
    "    #label the image with the target value\n",
    "    if X_test_predicted[i] == y_test[i]:\n",
    "        ax.text(0,1,X_test_predicted[i], color='green', bbox=dict(facecolor='white'))\n",
    "    else:\n",
    "        ax.text(0,1,X_test_predicted[i], color='red', bbox=dict(facecolor='white'))\n",
    "plt.show()"
   ]
  },
  {
   "cell_type": "code",
   "execution_count": null,
   "metadata": {
    "collapsed": true
   },
   "outputs": [],
   "source": []
  }
 ],
 "metadata": {
  "kernelspec": {
   "display_name": "Python 3",
   "language": "python",
   "name": "python3"
  },
  "language_info": {
   "codemirror_mode": {
    "name": "ipython",
    "version": 3
   },
   "file_extension": ".py",
   "mimetype": "text/x-python",
   "name": "python",
   "nbconvert_exporter": "python",
   "pygments_lexer": "ipython3",
   "version": "3.6.1"
  }
 },
 "nbformat": 4,
 "nbformat_minor": 1
}
